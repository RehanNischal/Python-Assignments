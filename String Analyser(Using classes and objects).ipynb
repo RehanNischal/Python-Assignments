{
 "cells": [
  {
   "cell_type": "markdown",
   "id": "827bb6ae",
   "metadata": {},
   "source": [
    "# Take a string and perform following usecases\n",
    "# 1. Length of the string\n",
    "# 2. Print special characters present in the given string(if any)\n",
    "# 3. Repeated words(special characters) and count\n",
    "# eg:result = [ { add : 2}, {another : 2}, { 3: 1} , {2 : 1}, {212: 1} , { '.': 1} ]\n",
    "# 4. Any palindrome -- both numbers and words\n",
    "# 5. Number --> how many even and odd numbers [{ odd: 1 },{ even : 2 }]"
   ]
  },
  {
   "cell_type": "code",
   "execution_count": 29,
   "id": "316028ea",
   "metadata": {},
   "outputs": [],
   "source": [
    "\n",
    "class String_analyser():\n",
    "    \n",
    "    def __init__(self,string_name):\n",
    "        self.str1 = string_name\n",
    "        \n",
    "        \n",
    "    def length_of_string(self):\n",
    "        result={}\n",
    "        count=0\n",
    "        for i in self.str1:\n",
    "            count+=1\n",
    "        result[\"Length\"]=count\n",
    "        return result\n",
    "        \n",
    "    def special_characters(self):\n",
    "        result={}\n",
    "        special_char=[]\n",
    "        for i in self.str1:\n",
    "            if i in ['!','@','#','$','%','^','&','*']:\n",
    "                special_char.append(i)\n",
    "        result[\"Special Characters\"]= special_char  \n",
    "        return result\n",
    "    \n",
    "    def repeated_words(self):   \n",
    "        result={}\n",
    "        d={}\n",
    "        l = self.str1.split(\" \")\n",
    "        repeated_words={}\n",
    "\n",
    "        for i in l:\n",
    "            d[i]=0\n",
    "        for i in l:\n",
    "            d[i]=d[i]+1\n",
    "        for i in d:\n",
    "            if d[i]>1:\n",
    "                repeated_words[i]=d[i]\n",
    "            \n",
    "        result[\"Repeated words\"]=repeated_words \n",
    "        return result\n",
    "    \n",
    "    def check_palindromes(self):\n",
    "        result={}\n",
    "        pal=[]\n",
    "\n",
    "        l1 = self.str1.split(\" \")\n",
    "        for i in l1:\n",
    "            if i.isalpha() or i.isalnum():\n",
    "                if i == i[::-1]:\n",
    "                    pal.append(i)\n",
    "        result[\"Palindromes\"]=pal\n",
    "        return result\n",
    "    \n",
    "    def odd_even_number_count(self):\n",
    "        result={}\n",
    "        import re\n",
    "        d1={}\n",
    "        d1[\"odd\"]=0\n",
    "        d1[\"even\"]=0\n",
    "        l2=self.str1.split(\" \")\n",
    "        for i in l2:\n",
    "            if re.search('\\D',i)==None: #check if the word contains only digits\n",
    "                if int(i)%2==0:\n",
    "                    d1[\"even\"]+=1\n",
    "                else:\n",
    "                    d1[\"odd\"]+=1\n",
    "        result[\"Number_count\"]=d1\n",
    "    \n",
    "        return result\n",
    "        \n",
    "        \n",
    "        \n",
    "        \n",
    "        "
   ]
  },
  {
   "cell_type": "code",
   "execution_count": 30,
   "id": "d4e0686e",
   "metadata": {},
   "outputs": [
    {
     "name": "stdout",
     "output_type": "stream",
     "text": [
      "{'Length': 42}\n"
     ]
    }
   ],
   "source": [
    "try:\n",
    "    obj = String_analyser(\"Was it a car or a cat I saw @$8^# 56 78 89\")\n",
    "    res = obj.length_of_string()\n",
    "    print(res)\n",
    "except Exception:\n",
    "    print(\"An Exception has occurred in length_of_string()\")  "
   ]
  },
  {
   "cell_type": "code",
   "execution_count": 31,
   "id": "7e1ded6b",
   "metadata": {},
   "outputs": [
    {
     "name": "stdout",
     "output_type": "stream",
     "text": [
      "{'Special Characters': ['@', '$', '^', '#']}\n"
     ]
    }
   ],
   "source": [
    "try:\n",
    "    obj = String_analyser(\"Was it a car or a cat I saw @$8^# 56 78 89\")\n",
    "    res = obj.special_characters()\n",
    "    print(res)\n",
    "except Exception:\n",
    "    print(\"An Exception has occurred in special_characters()\")\n",
    "  "
   ]
  },
  {
   "cell_type": "code",
   "execution_count": 32,
   "id": "8eaef5fd",
   "metadata": {},
   "outputs": [
    {
     "name": "stdout",
     "output_type": "stream",
     "text": [
      "{'Repeated words': {'a': 2}}\n"
     ]
    }
   ],
   "source": [
    "try:\n",
    "    obj = String_analyser(\"Was it a car or a cat I saw @$8^# 56 78 89\")\n",
    "    res = obj.repeated_words()\n",
    "    print(res)\n",
    "except Exception:\n",
    "    print(\"An Exception has occurred in repeated_words()\")"
   ]
  },
  {
   "cell_type": "code",
   "execution_count": 33,
   "id": "a40490eb",
   "metadata": {},
   "outputs": [
    {
     "name": "stdout",
     "output_type": "stream",
     "text": [
      "{'Palindromes': ['a', 'a', 'I']}\n"
     ]
    }
   ],
   "source": [
    "try:\n",
    "    obj = String_analyser(\"Was it a car or a cat I saw @$8^# 56 78 89\")\n",
    "    res = obj.check_palindromes()\n",
    "    print(res)\n",
    "except Exception:\n",
    "    print(\"An Exception has occurred in check_palindromes()\")"
   ]
  },
  {
   "cell_type": "code",
   "execution_count": 34,
   "id": "6819ffef",
   "metadata": {},
   "outputs": [
    {
     "name": "stdout",
     "output_type": "stream",
     "text": [
      "{'Number_count': {'odd': 1, 'even': 2}}\n"
     ]
    }
   ],
   "source": [
    "try:\n",
    "    obj = String_analyser(\"Was it a car or a cat I saw @$8^# 56 78 89\")\n",
    "    res = obj.odd_even_number_count()\n",
    "    print(res)\n",
    "except Exception:\n",
    "    print(\"An Exception has occurred in odd_even_number_count()\")"
   ]
  },
  {
   "cell_type": "code",
   "execution_count": null,
   "id": "871dac30",
   "metadata": {},
   "outputs": [],
   "source": []
  }
 ],
 "metadata": {
  "kernelspec": {
   "display_name": "Python 3 (ipykernel)",
   "language": "python",
   "name": "python3"
  },
  "language_info": {
   "codemirror_mode": {
    "name": "ipython",
    "version": 3
   },
   "file_extension": ".py",
   "mimetype": "text/x-python",
   "name": "python",
   "nbconvert_exporter": "python",
   "pygments_lexer": "ipython3",
   "version": "3.10.1"
  }
 },
 "nbformat": 4,
 "nbformat_minor": 5
}
