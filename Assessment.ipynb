{
 "cells": [
  {
   "cell_type": "markdown",
   "id": "c446c6c2",
   "metadata": {},
   "source": [
    "## 1.  Write a function that accept a string from the user and display characters that are present at an even index number and store them in a list.\n",
    "## input_str = \"gathi python bootcamp!!\"\n",
    "## result_lst = ['g', 't', 'i', 'p', 't', 'o', ' ', 'o', 't', 'a', 'p', '!']\n"
   ]
  },
  {
   "cell_type": "code",
   "execution_count": 17,
   "id": "086f7cc1",
   "metadata": {},
   "outputs": [
    {
     "name": "stdout",
     "output_type": "stream",
     "text": [
      "Enter the string : gathi python bootcamp!!\n",
      "g t i p t o   o t a p ! \n",
      " ['g', 't', 'i', 'p', 't', 'o', ' ', 'o', 't', 'a', 'p', '!']\n"
     ]
    }
   ],
   "source": [
    "def fun(str1):\n",
    "    try:\n",
    "        l=[]\n",
    "        for i in range(len(str1)):\n",
    "            if i%2==0:\n",
    "                print(str1[i], end=\" \")\n",
    "                l.append(str1[i])\n",
    "        return l\n",
    "    except Exception:\n",
    "        return \"An error occurred\"\n",
    "\n",
    "inp = input(\"Enter the string : \")    \n",
    "res=fun(inp)    \n",
    "print(\"\\n\",res)        \n",
    "   "
   ]
  },
  {
   "cell_type": "markdown",
   "id": "b3dc5c40",
   "metadata": {},
   "source": [
    "## 2.Write a function to return True if the first and last number of a given list is same. If numbers are different, then return False."
   ]
  },
  {
   "cell_type": "code",
   "execution_count": 13,
   "id": "763bf221",
   "metadata": {},
   "outputs": [
    {
     "name": "stdout",
     "output_type": "stream",
     "text": [
      "True\n"
     ]
    }
   ],
   "source": [
    "def check_first_last(l):\n",
    "    try:\n",
    "        if l[0] == l[len(l)-1]:\n",
    "            return True\n",
    "        else:\n",
    "            return False\n",
    "    except Exception:\n",
    "        print(\"An error occurred\")\n",
    "\n",
    "res = check_first_last([1,2,3,4,1])\n",
    "print(res)"
   ]
  },
  {
   "cell_type": "markdown",
   "id": "369b7d78",
   "metadata": {},
   "source": [
    "## 3. Write a program to find the count of words which starts with letter 'P' (both lowercase and uppercase)\n",
    "\n",
    "## input_str = \"Python is a high-level, interpreted, general-purpose programming language.\"\n",
    "## output_count = 2 \n"
   ]
  },
  {
   "cell_type": "code",
   "execution_count": 16,
   "id": "f411b93b",
   "metadata": {},
   "outputs": [
    {
     "name": "stdout",
     "output_type": "stream",
     "text": [
      "Enter the string : Python is a high-level, interpreted, general-purpose programming language.\n",
      "2\n"
     ]
    }
   ],
   "source": [
    "def count_p(str1):\n",
    "    try:\n",
    "        count = 0\n",
    "        l =  str1.split()\n",
    "        for i in l:\n",
    "            s = i.lower()\n",
    "            if s.startswith('p'):\n",
    "                count=count+1\n",
    "        return count\n",
    "    except Exception:\n",
    "        print(\"An error occurred\")\n",
    "\n",
    "inp = input(\"Enter the string : \")\n",
    "res=count_p(inp) \n",
    "print(res)"
   ]
  },
  {
   "cell_type": "markdown",
   "id": "c9e3f2e0",
   "metadata": {},
   "source": [
    "## 4. Print following pattern\n",
    "## 1 \n",
    "## 2 2 \n",
    "## 3 3 3 \n",
    "## 4 4 4 4 \n",
    "## 5 5 5 5 5\n"
   ]
  },
  {
   "cell_type": "code",
   "execution_count": 22,
   "id": "af992dca",
   "metadata": {},
   "outputs": [
    {
     "name": "stdout",
     "output_type": "stream",
     "text": [
      "1 \n",
      "2 2 \n",
      "3 3 3 \n",
      "4 4 4 4 \n",
      "5 5 5 5 5 \n"
     ]
    }
   ],
   "source": [
    "def print_pattern():\n",
    "    try:\n",
    "        for i in range(1,6):\n",
    "            s= \"{} \".format(i)\n",
    "            print(s*i)\n",
    "    except Exception:\n",
    "        print(\"An error occurred\")\n",
    "print_pattern()        "
   ]
  },
  {
   "cell_type": "markdown",
   "id": "abfb08c0",
   "metadata": {},
   "source": [
    "## 5. Write a function to reverse the given list\n",
    "## input_lst = [1,2,3,4,5]\n",
    "## output_lst = [5,4,3,2,1]\n"
   ]
  },
  {
   "cell_type": "code",
   "execution_count": 27,
   "id": "7da8d58a",
   "metadata": {},
   "outputs": [
    {
     "data": {
      "text/plain": [
       "[5, 4, 3, 2, 1]"
      ]
     },
     "execution_count": 27,
     "metadata": {},
     "output_type": "execute_result"
    }
   ],
   "source": [
    "def reverse_list(l):\n",
    "    try:\n",
    "        l2=[]\n",
    "        for i in l[::-1]:\n",
    "            l2.append(i)\n",
    "        return l2    \n",
    "        \n",
    "    except Exception:\n",
    "        print(\"An error occurred\")\n",
    "        \n",
    "reverse_list([1,2,3,4,5])      "
   ]
  },
  {
   "cell_type": "markdown",
   "id": "f3671345",
   "metadata": {},
   "source": [
    "## 6. Write a program to print \"I Love Python 100%\" from given tuple.\n",
    "## input_tuple = ([10, 'a', 20, 'e', 30, 'i', 40, 'o', 50,'u'],( 60 , 'Love'),  70 , 'Python', 80, (90, 100), ['!','%'])\n"
   ]
  },
  {
   "cell_type": "code",
   "execution_count": 41,
   "id": "50921c90",
   "metadata": {},
   "outputs": [
    {
     "name": "stdout",
     "output_type": "stream",
     "text": [
      "I Love Python 100%\n"
     ]
    }
   ],
   "source": [
    "try:\n",
    "    t =  ([10, 'a', 20, 'e', 30, 'i', 40, 'o', 50,'u'],( 60 , 'Love'), 70 , 'Python', 80, (90, 100), ['!','%'])\n",
    "    \n",
    "    print(t[0][5].upper(), t[1][1], t[3], end=\" \")\n",
    "    print(t[5][1], t[6][1], sep=\"\")\n",
    "except Exception:\n",
    "        print(\"An error occurred\")    "
   ]
  },
  {
   "cell_type": "markdown",
   "id": "b98b802c",
   "metadata": {},
   "source": [
    "## 7.Simplify below condition \n",
    "## if n == 0 or n == 1 or n == 2 or n == 3 or n == 4 or n == 5:\n"
   ]
  },
  {
   "cell_type": "code",
   "execution_count": null,
   "id": "6ccb51fe",
   "metadata": {},
   "outputs": [],
   "source": [
    "if n in [0,1,2,3,4,5]:\n",
    "    "
   ]
  },
  {
   "cell_type": "markdown",
   "id": "f40fbb59",
   "metadata": {},
   "source": [
    "## 8. Write a program to calculate the sum of series up to n term. For example, if n =5 the series will become 2 + 22 + 222 + 2222 + 22222 = 24690"
   ]
  },
  {
   "cell_type": "code",
   "execution_count": 48,
   "id": "aad69d85",
   "metadata": {},
   "outputs": [
    {
     "name": "stdout",
     "output_type": "stream",
     "text": [
      "24690\n"
     ]
    }
   ],
   "source": [
    "def find_sum(n):\n",
    "    try:\n",
    "        s=\"{}\".format(2)\n",
    "        sum = 0\n",
    "        for i in range(1,n+1):\n",
    "            sum = sum + int(s*i)\n",
    "        return sum\n",
    "    except Exception:\n",
    "        print(\"An error occurred\")\n",
    "       \n",
    "res = find_sum(5)    \n",
    "print(res)\n",
    "            \n",
    "            "
   ]
  },
  {
   "cell_type": "markdown",
   "id": "91010f80",
   "metadata": {},
   "source": [
    "## 9. CSV input file:\n",
    "##      a.\tFind duplicate records and save them in different file named duplicates.csv\n",
    "##      b.\tList the difference between the column names given and the columns names in the given file.\n",
    "## clms_nm = [Rank,NCT Number,Title,Acronym,Status,Study_Results,Conditions,Interventions,Outcome Measure,Sponsor_Collaborators,Gender,Age]\n",
    "\n"
   ]
  },
  {
   "cell_type": "code",
   "execution_count": 68,
   "id": "be1f57e5",
   "metadata": {},
   "outputs": [],
   "source": [
    "import csv\n",
    "fields =[]\n",
    "rows = []\n",
    "with open(\"covid_data.csv\",\"r\")  as outfile:\n",
    "    csvreader = csv.reader(outfile)\n",
    "    fields = next(csvreader)\n",
    "    for row in csvreader:\n",
    "        rows.append(row)    \n",
    "        \n"
   ]
  },
  {
   "cell_type": "markdown",
   "id": "34cf2bb4",
   "metadata": {},
   "source": [
    "## 10. Write a program that accepts a comma separated sequence of words as input and prints the words in a comma-separated sequence after sorting them alphabetically.\n",
    "## Suppose the following input is supplied to the program:\n",
    "## Input = walking,hello,car,world\n",
    "## Output = car,hello,walking,world\n"
   ]
  },
  {
   "cell_type": "code",
   "execution_count": 57,
   "id": "2737924b",
   "metadata": {},
   "outputs": [
    {
     "name": "stdout",
     "output_type": "stream",
     "text": [
      "Enter the string walking,hello,car,world\n",
      "car,hello,walking,world\n"
     ]
    }
   ],
   "source": [
    "def fun(str1):\n",
    "    try:\n",
    "        l= str1.split(\",\")\n",
    "        l2=sorted(l)\n",
    "        str2=\",\".join(l2)\n",
    "        return str2\n",
    "    except Exception:\n",
    "        print(\"An error occurred\")\n",
    "        \n",
    "inp = input(\"Enter the string \")\n",
    "res = fun(inp)\n",
    "print(res)"
   ]
  },
  {
   "cell_type": "markdown",
   "id": "ebaa1c3c",
   "metadata": {},
   "source": [
    "## 11.Write a program that accepts a sentence and calculate the number of upper-case letters and lower-case letters.\n",
    "## Suppose the following input is supplied to the program:\n",
    "##       input: Hello world!\n",
    "##       output:  { ‘UPPER_CASE’ : 1  ,  ‘LOWER_CASE’:  9 }\n"
   ]
  },
  {
   "cell_type": "code",
   "execution_count": 59,
   "id": "7769be11",
   "metadata": {},
   "outputs": [
    {
     "name": "stdout",
     "output_type": "stream",
     "text": [
      "Enter the string : Hello world!\n",
      "{'UPPER_CASE': 0, 'LOWER_CASE': 2}\n"
     ]
    }
   ],
   "source": [
    "def count_letter(str1):\n",
    "    try:\n",
    "        l= str1.split()\n",
    "        upper=0\n",
    "        lower=0\n",
    "        for i in l:\n",
    "            if i.isupper():\n",
    "                upper+=1\n",
    "            else:\n",
    "                lower+=1\n",
    "        d={}\n",
    "        d[\"UPPER_CASE\"]=upper\n",
    "        d[\"LOWER_CASE\"]=lower\n",
    "        return d\n",
    "    except Exception:\n",
    "        print(\"An error occurred\")\n",
    "\n",
    "inp = input(\"Enter the string : \")\n",
    "res = count_letter(inp)        \n",
    "print(res)"
   ]
  },
  {
   "cell_type": "markdown",
   "id": "c7fa1e51",
   "metadata": {},
   "source": [
    "## 12. Write a function that takes a list of words and an integer n and returns the list of words that are longer than n. Use List Comprehension"
   ]
  },
  {
   "cell_type": "code",
   "execution_count": 60,
   "id": "8f838f67",
   "metadata": {},
   "outputs": [
    {
     "name": "stdout",
     "output_type": "stream",
     "text": [
      "['abcd', 'ahgfdgf']\n"
     ]
    }
   ],
   "source": [
    "def fun(l,n):\n",
    "    \n",
    "    return [i for i in l if len(i)>n]\n",
    "\n",
    "res = fun([\"abcd\",\"ahgfdgf\",\"g\",\"thg\"],3)\n",
    "print(res)\n",
    "\n"
   ]
  },
  {
   "cell_type": "markdown",
   "id": "85408f3e",
   "metadata": {},
   "source": [
    "## 13. Define a function that takes three numbers as arguments and returns the largest of them."
   ]
  },
  {
   "cell_type": "code",
   "execution_count": 62,
   "id": "52550724",
   "metadata": {},
   "outputs": [
    {
     "name": "stdout",
     "output_type": "stream",
     "text": [
      "6\n"
     ]
    }
   ],
   "source": [
    "def maximum(a, b, c):\n",
    "    if(a>=b) and (a>=c):\n",
    "        res = a\n",
    "    elif (b>=a) and (b>=c):\n",
    "        res = b\n",
    "    else:\n",
    "        res = c\n",
    "    return res\n",
    "\n",
    "print(maximum(3,6,4))"
   ]
  },
  {
   "cell_type": "markdown",
   "id": "6156267d",
   "metadata": {},
   "source": [
    "## 14. Write a program that maps a list of words into a list of integers representing the lengths of the corresponding words.\n",
    "## Write it in two different ways:\n",
    "## 1) using a for-loop,\n",
    "## 2) using the higher order function map()\n"
   ]
  },
  {
   "cell_type": "code",
   "execution_count": 63,
   "id": "c425c41c",
   "metadata": {},
   "outputs": [
    {
     "name": "stdout",
     "output_type": "stream",
     "text": [
      "[3, 4, 5]\n"
     ]
    }
   ],
   "source": [
    "#1\n",
    "\n",
    "def f1(l):\n",
    "    res = []\n",
    "    for i in l:\n",
    "        res.append(len(i))\n",
    "    return res    \n",
    "print(f1([\"abc\",\"pegf\",\"sdfdh\"]))        "
   ]
  },
  {
   "cell_type": "code",
   "execution_count": 64,
   "id": "d1bb32bc",
   "metadata": {},
   "outputs": [
    {
     "name": "stdout",
     "output_type": "stream",
     "text": [
      "[3, 4, 5]\n"
     ]
    }
   ],
   "source": [
    "#2\n",
    "\n",
    "def f2(str1):\n",
    "    return len(str1)\n",
    "    \n",
    "res = list(map(f2,[\"abc\",\"pegf\",\"sdfdh\"]))    \n",
    "print(res)"
   ]
  },
  {
   "cell_type": "code",
   "execution_count": null,
   "id": "b4aa3396",
   "metadata": {},
   "outputs": [],
   "source": []
  }
 ],
 "metadata": {
  "kernelspec": {
   "display_name": "Python 3 (ipykernel)",
   "language": "python",
   "name": "python3"
  },
  "language_info": {
   "codemirror_mode": {
    "name": "ipython",
    "version": 3
   },
   "file_extension": ".py",
   "mimetype": "text/x-python",
   "name": "python",
   "nbconvert_exporter": "python",
   "pygments_lexer": "ipython3",
   "version": "3.10.1"
  }
 },
 "nbformat": 4,
 "nbformat_minor": 5
}
